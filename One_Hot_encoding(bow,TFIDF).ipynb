{
 "cells": [
  {
   "cell_type": "code",
   "execution_count": 5,
   "id": "d4106b5e-890c-4e73-a0b8-c30f8c1cd76d",
   "metadata": {},
   "outputs": [],
   "source": [
    " import pandas as pd"
   ]
  },
  {
   "cell_type": "code",
   "execution_count": 9,
   "id": "9571d4ff-ba1b-4e6c-ae66-27dbfa15c4bb",
   "metadata": {},
   "outputs": [],
   "source": [
    "import os"
   ]
  },
  {
   "cell_type": "code",
   "execution_count": null,
   "id": "1451926b-c613-4422-9b1c-81a4df9db6dd",
   "metadata": {},
   "outputs": [],
   "source": []
  },
  {
   "cell_type": "code",
   "execution_count": 69,
   "id": "1cc539a6-b5dd-482d-b999-676ea8fe5d76",
   "metadata": {},
   "outputs": [],
   "source": [
    "# print(os.listdir('C:/Users/ADMIN/Documents/'))\n",
    "# folder_path = r\"C:\\Users\\ADMIN\\Documents\"\n",
    "# folder=os.listdir('C:/Users/ADMIN/Documents/')\n",
    "\n",
    "# file_name = \"spam.csv\""
   ]
  },
  {
   "cell_type": "code",
   "execution_count": 89,
   "id": "d190c2b3-dc1d-4020-91fa-6e47861119ab",
   "metadata": {},
   "outputs": [
    {
     "name": "stdout",
     "output_type": "stream",
     "text": [
      "C:\\Users\\ADMIN\\Documents\\spam.csv\n"
     ]
    }
   ],
   "source": [
    "\n",
    "file_path = os.path.join(folder_path, file_name) \n",
    "print(file_path)\n"
   ]
  },
  {
   "cell_type": "code",
   "execution_count": null,
   "id": "349e6bc7-5a00-4b1b-a856-df6af66e1fc1",
   "metadata": {},
   "outputs": [],
   "source": []
  },
  {
   "cell_type": "code",
   "execution_count": 87,
   "id": "fede6a20-4e86-4120-b0ff-5e796d930159",
   "metadata": {},
   "outputs": [],
   "source": [
    "message=pd.read_csv('C:/Users/ADMIN/Documents/spam.csv',encoding=\"latin1\")"
   ]
  },
  {
   "cell_type": "code",
   "execution_count": 92,
   "id": "10ec4bb9-72ac-4dc8-b3c9-b22b4093a645",
   "metadata": {},
   "outputs": [],
   "source": [
    "df=pd.read_csv(file_path,encoding=\"latin1\").iloc[:,0:2]"
   ]
  },
  {
   "cell_type": "code",
   "execution_count": 170,
   "id": "05f64615-079d-4d75-bf72-fec34e1053c5",
   "metadata": {},
   "outputs": [],
   "source": [
    "# df"
   ]
  },
  {
   "cell_type": "code",
   "execution_count": null,
   "id": "2b51a7c6-2ef2-4675-ae41-9c38d4224a68",
   "metadata": {},
   "outputs": [],
   "source": [
    "#one hot incoding\n",
    "#bag of words"
   ]
  },
  {
   "cell_type": "code",
   "execution_count": 95,
   "id": "8ca6f2f8-81e4-445d-8de3-81f1bfc35f96",
   "metadata": {},
   "outputs": [
    {
     "name": "stderr",
     "output_type": "stream",
     "text": [
      "[nltk_data] Downloading package stopwords to\n",
      "[nltk_data]     C:\\Users\\ADMIN\\AppData\\Roaming\\nltk_data...\n",
      "[nltk_data]   Package stopwords is already up-to-date!\n"
     ]
    },
    {
     "data": {
      "text/plain": [
       "True"
      ]
     },
     "execution_count": 95,
     "metadata": {},
     "output_type": "execute_result"
    }
   ],
   "source": [
    "import re\n",
    "import nltk\n",
    "nltk.download('stopwords')"
   ]
  },
  {
   "cell_type": "code",
   "execution_count": 101,
   "id": "2a05da15-76b4-4001-970d-bd33eed2c1cf",
   "metadata": {},
   "outputs": [],
   "source": [
    "from nltk.corpus import stopwords\n",
    "from nltk.stem.porter import PorterStemmer\n",
    "p_stem=PorterStemmer()"
   ]
  },
  {
   "cell_type": "code",
   "execution_count": 165,
   "id": "a29a57bd-7d1b-4747-a490-c1206efdb7f1",
   "metadata": {},
   "outputs": [],
   "source": [
    "corpus=[]\n",
    "for i in range(0,len(df)):\n",
    "    review=re.sub('[^a-zA-Z]',' ',df['v2'][i])\n",
    "    review=review.lower()\n",
    "    review=review.split()\n",
    "    # print(review)\n",
    "    review=[p_stem.stem(word) for word in review if not word in set(stopwords.words('english'))]\n",
    "\n",
    "    review=' '.join(review)\n",
    "    corpus.append(review)"
   ]
  },
  {
   "cell_type": "code",
   "execution_count": 171,
   "id": "736c2218-b9d7-412f-95af-99532ad9ccf1",
   "metadata": {},
   "outputs": [],
   "source": [
    "# corpus"
   ]
  },
  {
   "cell_type": "code",
   "execution_count": null,
   "id": "43dba167-f36a-44c0-b502-100d0b86e7a4",
   "metadata": {},
   "outputs": [],
   "source": [
    "# with SnowballStemmer"
   ]
  },
  {
   "cell_type": "code",
   "execution_count": 107,
   "id": "d08e2cbb-5123-4ee0-ac75-e108b366955a",
   "metadata": {},
   "outputs": [],
   "source": [
    "from nltk.corpus import stopwords\n",
    "from nltk.stem import SnowballStemmer\n",
    "s_stem=SnowballStemmer('english')"
   ]
  },
  {
   "cell_type": "code",
   "execution_count": 175,
   "id": "60e111a4-bf57-41b5-8455-161d18e52243",
   "metadata": {},
   "outputs": [],
   "source": [
    "corpus=[]\n",
    "for i in range(0,len(df)):\n",
    "    review=re.sub('[^a-zA-Z]',' ',df['v2'][i])\n",
    "    review=review.lower()\n",
    "    review=review.split()\n",
    "    # print(review)\n",
    "    review=[s_stem.stem(word) for word in review if not word in set(stopwords.words('english'))]\n",
    "    # print(review)\n",
    "\n",
    "    review=' '.join(review)\n",
    "    # print(review)\n",
    "\n",
    "    corpus.append(review)"
   ]
  },
  {
   "cell_type": "code",
   "execution_count": 176,
   "id": "05f2174c-f625-48cc-b651-529a9a2a08a0",
   "metadata": {},
   "outputs": [],
   "source": [
    "# corpus"
   ]
  },
  {
   "cell_type": "code",
   "execution_count": null,
   "id": "68b0dab8-1102-4c74-8b61-7b9121541d2c",
   "metadata": {},
   "outputs": [],
   "source": [
    "#bag of words\n",
    "#create the bag of words \n"
   ]
  },
  {
   "cell_type": "code",
   "execution_count": 110,
   "id": "6ec2c0a3-6f91-47c8-a917-b387d7e041b3",
   "metadata": {},
   "outputs": [],
   "source": [
    "from sklearn.feature_extraction.text import CountVectorizer"
   ]
  },
  {
   "cell_type": "code",
   "execution_count": null,
   "id": "930fb257-5e76-412e-9802-96df998b9164",
   "metadata": {},
   "outputs": [],
   "source": [
    "#Assign the values to CountVectorizer"
   ]
  },
  {
   "cell_type": "code",
   "execution_count": 118,
   "id": "9d60e807-d78f-47f4-9dc6-83b435db17fc",
   "metadata": {},
   "outputs": [],
   "source": [
    "cv=CountVectorizer(max_features=2500,binary=True)"
   ]
  },
  {
   "cell_type": "code",
   "execution_count": null,
   "id": "652bdc79-cbb1-4db7-b64a-13c0dd220303",
   "metadata": {},
   "outputs": [],
   "source": [
    "#Vectorize Corpus to Vector"
   ]
  },
  {
   "cell_type": "code",
   "execution_count": 122,
   "id": "f671008b-8635-404d-ac4e-03fa4afa591e",
   "metadata": {},
   "outputs": [],
   "source": [
    "X=cv.fit_transform(corpus).toarray()"
   ]
  },
  {
   "cell_type": "code",
   "execution_count": 115,
   "id": "10d86fb8-654f-4af5-94ae-851e3be77a79",
   "metadata": {},
   "outputs": [
    {
     "data": {
      "text/plain": [
       "(5572, 2500)"
      ]
     },
     "execution_count": 115,
     "metadata": {},
     "output_type": "execute_result"
    }
   ],
   "source": [
    "X.shape"
   ]
  },
  {
   "cell_type": "code",
   "execution_count": 123,
   "id": "e3a19d6a-c758-4f73-b789-6754f29c91c2",
   "metadata": {},
   "outputs": [
    {
     "data": {
      "text/plain": [
       "array([[0, 0, 0, ..., 0, 0, 0],\n",
       "       [0, 0, 0, ..., 0, 0, 0],\n",
       "       [0, 0, 0, ..., 0, 0, 0],\n",
       "       ...,\n",
       "       [0, 0, 0, ..., 0, 0, 0],\n",
       "       [0, 0, 0, ..., 0, 0, 0],\n",
       "       [0, 0, 0, ..., 0, 0, 0]], dtype=int64)"
      ]
     },
     "execution_count": 123,
     "metadata": {},
     "output_type": "execute_result"
    }
   ],
   "source": [
    "X"
   ]
  },
  {
   "cell_type": "markdown",
   "id": "cf14b352-80fa-4ef3-9250-43afb0d91b00",
   "metadata": {},
   "source": [
    "## N-Gram-(Bigram,Trigram) cobination of the sentence based on sentence word Ex.is,the kinde of word remove using stopwords "
   ]
  },
  {
   "cell_type": "markdown",
   "id": "f6f0ad33-99e5-497e-a123-5e21a05a91ad",
   "metadata": {},
   "source": [
    "##Ngram"
   ]
  },
  {
   "cell_type": "code",
   "execution_count": 192,
   "id": "4b46dcde-ef4b-405a-8b21-499bc903ecce",
   "metadata": {},
   "outputs": [],
   "source": [
    "# cv.vocabulary_"
   ]
  },
  {
   "cell_type": "code",
   "execution_count": 172,
   "id": "ca088f5f-8b9a-476a-8c0c-5f28b0a7cb14",
   "metadata": {},
   "outputs": [],
   "source": [
    "from sklearn.feature_extraction.text import CountVectorizer\n",
    "\n",
    "cv=CountVectorizer(max_features=500,binary=True,ngram_range=(2,3))\n",
    "X=cv.fit_transform(corpus).toarray()"
   ]
  },
  {
   "cell_type": "code",
   "execution_count": 173,
   "id": "a4e9ffeb-2bc5-4c94-9c21-8e6ef786fbeb",
   "metadata": {},
   "outputs": [],
   "source": [
    "# cv.vocabulary_"
   ]
  },
  {
   "cell_type": "markdown",
   "id": "c96d1471-f562-4cae-904b-3488c22ba7da",
   "metadata": {},
   "source": [
    "TF-IDF"
   ]
  },
  {
   "cell_type": "code",
   "execution_count": null,
   "id": "5bc85478-3b23-4aa3-8506-346aeda0ae12",
   "metadata": {},
   "outputs": [],
   "source": [
    "## TF-IDF Term frequency -Inverce document frequency(TF*IDF)\n",
    "#TF-(No of Repetation of words in sentence )/(No of words in sentence)\n",
    "#IDF-log(No of sentence )/(No of sentence containg The words)"
   ]
  },
  {
   "cell_type": "code",
   "execution_count": 177,
   "id": "60c89704-57dd-4a85-987e-fa0522801644",
   "metadata": {},
   "outputs": [],
   "source": [
    "from nltk.corpus import stopwords\n",
    "from nltk.stem import WordNetLemmatizer\n",
    "W_lim=WordNetLemmatizer()"
   ]
  },
  {
   "cell_type": "code",
   "execution_count": 178,
   "id": "db7ff09e-2ad5-4530-9ee8-e5136d7835de",
   "metadata": {},
   "outputs": [],
   "source": [
    "df=pd.read_csv(file_path,encoding=\"latin1\").iloc[:,0:2]"
   ]
  },
  {
   "cell_type": "code",
   "execution_count": 179,
   "id": "580dc80a-71ba-4b6f-b634-1ab36c181c26",
   "metadata": {},
   "outputs": [],
   "source": [
    "corpus=[]\n",
    "for i in range(0,len(df)):\n",
    "    review=re.sub('[^a-zA-Z]',' ',df['v2'][i])\n",
    "    review=review.lower()\n",
    "    review=review.split()\n",
    "    # print(review)\n",
    "    review=[W_lim.lemmatize(word) for word in review if not word in stopwords.words('english')]\n",
    "    # print(review)\n",
    "\n",
    "    review=' '.join(review)\n",
    "    # print(review)\n",
    "\n",
    "    corpus.append(review)"
   ]
  },
  {
   "cell_type": "code",
   "execution_count": 181,
   "id": "222348ab-2884-4188-a547-55ad38085d4a",
   "metadata": {},
   "outputs": [],
   "source": [
    "# corpus"
   ]
  },
  {
   "cell_type": "code",
   "execution_count": 183,
   "id": "a4c42d6a-cd21-410f-bcb9-5081a6ac6577",
   "metadata": {},
   "outputs": [],
   "source": [
    "from sklearn.feature_extraction.text import TfidfVectorizer\n",
    "vectorizer = TfidfVectorizer(max_features=100)\n",
    "# for sentence in corpus:\n",
    "    # print(sentence)\n",
    "X = vectorizer.fit_transform(corpus).toarray()\n",
    "    # vectorizer.get_feature_names_out()\n"
   ]
  },
  {
   "cell_type": "code",
   "execution_count": 184,
   "id": "220f13c8-dc9e-417f-a015-1158a26748b5",
   "metadata": {},
   "outputs": [],
   "source": [
    "import numpy as np\n",
    "np.set_printoptions(edgeitems=30,linewidth=100000,formatter=dict(float=lambda x:\"%.3g\" % x))"
   ]
  },
  {
   "cell_type": "code",
   "execution_count": 191,
   "id": "1b5dd569-44d1-4608-b5bd-cfebde42ebcb",
   "metadata": {},
   "outputs": [],
   "source": [
    "# X"
   ]
  },
  {
   "cell_type": "code",
   "execution_count": null,
   "id": "bbadaaf7-a0fc-4517-857e-3deb5e5c4500",
   "metadata": {},
   "outputs": [],
   "source": [
    "##Ngram"
   ]
  },
  {
   "cell_type": "code",
   "execution_count": 186,
   "id": "f918d429-45ae-4c5b-9697-716cdd84cf80",
   "metadata": {},
   "outputs": [],
   "source": [
    "vectorizer = TfidfVectorizer(max_features=100 ,ngram_range=(2,2))\n",
    "X = vectorizer.fit_transform(corpus).toarray()\n",
    "\n"
   ]
  },
  {
   "cell_type": "code",
   "execution_count": 187,
   "id": "4f0d2aba-ed34-4399-89a2-e795f7ae6de4",
   "metadata": {},
   "outputs": [
    {
     "data": {
      "text/plain": [
       "{'free entry': 31,\n",
       " 'claim call': 15,\n",
       " 'call claim': 3,\n",
       " 'free call': 30,\n",
       " 'chance win': 14,\n",
       " 'txt word': 88,\n",
       " 'let know': 51,\n",
       " 'please call': 65,\n",
       " 'lt gt': 55,\n",
       " 'want go': 97,\n",
       " 'like lt': 52,\n",
       " 'sorry call': 79,\n",
       " 'call later': 8,\n",
       " 'ur awarded': 90,\n",
       " 'hi hi': 44,\n",
       " 'call customer': 4,\n",
       " 'customer service': 22,\n",
       " 'cash prize': 13,\n",
       " 'trying contact': 85,\n",
       " 'draw show': 27,\n",
       " 'show prize': 77,\n",
       " 'prize guaranteed': 71,\n",
       " 'guaranteed call': 40,\n",
       " 'valid hr': 95,\n",
       " 'selected receive': 74,\n",
       " 'private account': 69,\n",
       " 'account statement': 0,\n",
       " 'statement show': 80,\n",
       " 'call identifier': 5,\n",
       " 'identifier code': 47,\n",
       " 'code expires': 19,\n",
       " 'urgent mobile': 94,\n",
       " 'call landline': 7,\n",
       " 'wat time': 98,\n",
       " 'ur mob': 93,\n",
       " 'gud ni': 41,\n",
       " 'new year': 60,\n",
       " 'send stop': 76,\n",
       " 'co uk': 18,\n",
       " 'nice day': 61,\n",
       " 'lt decimal': 54,\n",
       " 'decimal gt': 24,\n",
       " 'txt nokia': 86,\n",
       " 'good morning': 35,\n",
       " 'ur friend': 92,\n",
       " 'good night': 36,\n",
       " 'reply call': 73,\n",
       " 'po box': 67,\n",
       " 'last night': 50,\n",
       " 'camera phone': 12,\n",
       " 'pick phone': 64,\n",
       " 'pls send': 66,\n",
       " 'send message': 75,\n",
       " 'great day': 37,\n",
       " 'ur cash': 91,\n",
       " 'suite land': 81,\n",
       " 'land row': 49,\n",
       " 'good afternoon': 34,\n",
       " 'take care': 82,\n",
       " 'double min': 26,\n",
       " 'call mobileupd': 9,\n",
       " 'call optout': 10,\n",
       " 'gt min': 39,\n",
       " 'txt stop': 87,\n",
       " 'dating service': 23,\n",
       " 'pobox wq': 68,\n",
       " 'mobile number': 56,\n",
       " 'call land': 6,\n",
       " 'land line': 48,\n",
       " 'line claim': 53,\n",
       " 'claim valid': 17,\n",
       " 'gt lt': 38,\n",
       " 'hope good': 46,\n",
       " 'free text': 32,\n",
       " 'holiday cash': 45,\n",
       " 'prize claim': 70,\n",
       " 'nd attempt': 58,\n",
       " 'attempt contact': 1,\n",
       " 'claim ur': 16,\n",
       " 'show un': 78,\n",
       " 'un redeemed': 89,\n",
       " 'redeemed point': 72,\n",
       " 'happy birthday': 42,\n",
       " 'ok lor': 63,\n",
       " 'want come': 96,\n",
       " 'every week': 28,\n",
       " 'come home': 21,\n",
       " 'new nokia': 59,\n",
       " 'happy new': 43,\n",
       " 'every wk': 29,\n",
       " 'national rate': 57,\n",
       " 'nokia tone': 62,\n",
       " 'tone ur': 84,\n",
       " 'week txt': 99,\n",
       " 'tell ur': 83,\n",
       " 'gift voucher': 33,\n",
       " 'await collection': 2,\n",
       " 'dont know': 25,\n",
       " 'come back': 20,\n",
       " 'call per': 11}"
      ]
     },
     "execution_count": 187,
     "metadata": {},
     "output_type": "execute_result"
    }
   ],
   "source": [
    "vectorizer.vocabulary_"
   ]
  },
  {
   "cell_type": "code",
   "execution_count": 194,
   "id": "e5172041-0672-4c9a-8dfb-99ee68b35a08",
   "metadata": {},
   "outputs": [
    {
     "data": {
      "text/plain": [
       "(5572, 100)"
      ]
     },
     "execution_count": 194,
     "metadata": {},
     "output_type": "execute_result"
    }
   ],
   "source": [
    "X.shape"
   ]
  }
 ],
 "metadata": {
  "kernelspec": {
   "display_name": "Python 3 (ipykernel)",
   "language": "python",
   "name": "python3"
  },
  "language_info": {
   "codemirror_mode": {
    "name": "ipython",
    "version": 3
   },
   "file_extension": ".py",
   "mimetype": "text/x-python",
   "name": "python",
   "nbconvert_exporter": "python",
   "pygments_lexer": "ipython3",
   "version": "3.12.7"
  }
 },
 "nbformat": 4,
 "nbformat_minor": 5
}
